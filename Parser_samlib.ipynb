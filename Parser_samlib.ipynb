{
  "nbformat": 4,
  "nbformat_minor": 0,
  "metadata": {
    "colab": {
      "name": "Ulyanochka_samlib.ipynb",
      "provenance": [],
      "collapsed_sections": [],
      "toc_visible": true
    },
    "kernelspec": {
      "name": "python3",
      "display_name": "Python 3"
    }
  },
  "cells": [
    {
      "cell_type": "markdown",
      "metadata": {
        "id": "Tw-aIH64-dQI",
        "colab_type": "text"
      },
      "source": [
        "# Parse and analyze texts on Samlib\n"
      ]
    },
    {
      "cell_type": "markdown",
      "metadata": {
        "id": "67LUhKjs-rBI",
        "colab_type": "text"
      },
      "source": [
        "## Import tools and implement basic classes\n"
      ]
    },
    {
      "cell_type": "code",
      "metadata": {
        "id": "vkdnrD1hijv4",
        "colab_type": "code",
        "colab": {}
      },
      "source": [
        "!pip install jsons\n",
        "!pip install jsonlines\n"
      ],
      "execution_count": 0,
      "outputs": []
    },
    {
      "cell_type": "code",
      "metadata": {
        "id": "oE1TuwTU9nb1",
        "colab_type": "code",
        "colab": {}
      },
      "source": [
        "import re\n",
        "import os\n",
        "\n",
        "import requests\n",
        "import pandas as pd\n",
        "import jsons\n",
        "import json\n",
        "import jsonlines\n",
        "\n",
        "from lxml import html\n",
        "from bs4 import BeautifulSoup\n"
      ],
      "execution_count": 0,
      "outputs": []
    },
    {
      "cell_type": "code",
      "metadata": {
        "id": "R-ZBDpZndWjd",
        "colab_type": "code",
        "colab": {}
      },
      "source": [
        "class ConsoleLogger:\n",
        "\n",
        "    def __init__(self, enable_logging=True):\n",
        "        self.enable_logging = enable_logging\n",
        "\n",
        "    def info(self, message):\n",
        "        if not self.enable_logging:\n",
        "            return\n",
        "\n",
        "        print(message)\n",
        "  \n",
        "    def empty_line(self):\n",
        "        if not self.enable_logging:\n",
        "            return\n",
        "\n",
        "        print()\n"
      ],
      "execution_count": 0,
      "outputs": []
    },
    {
      "cell_type": "code",
      "metadata": {
        "id": "Nf7ikj_t-rNg",
        "colab_type": "code",
        "colab": {}
      },
      "source": [
        "class UrlWrapper:\n",
        "\n",
        "    def __init__(self, url, encoding):\n",
        "        self.url = url\n",
        "        self.encoding = encoding\n",
        "\n",
        "    def __str__(self):\n",
        "        return f\"url: [{self.url}], encoding: [{self.encoding}]\"\n",
        "\n",
        "    def __repr__(self):\n",
        "        return self.__str__()\n",
        "\n",
        "\n",
        "def combine_url_and_href(url_wrapper, href):\n",
        "    full_url = url_wrapper.url\n",
        "    if href.startswith(\"/\"):\n",
        "        full_url += href[1:]\n",
        "    else:\n",
        "        full_url += href\n",
        "\n",
        "    return UrlWrapper(full_url, url_wrapper.encoding)\n"
      ],
      "execution_count": 0,
      "outputs": []
    },
    {
      "cell_type": "markdown",
      "metadata": {
        "id": "2xZX3i99_GIc",
        "colab_type": "text"
      },
      "source": [
        "## Parsing main page with authors\n"
      ]
    },
    {
      "cell_type": "code",
      "metadata": {
        "id": "0dle5Jkcexbw",
        "colab_type": "code",
        "colab": {}
      },
      "source": [
        "# del default_url\n",
        "# del default_logger\n",
        "\n",
        "default_url = UrlWrapper(\"http://samlib.ru/\", \"cp1251\")\n",
        "default_logger = ConsoleLogger(enable_logging=False)\n"
      ],
      "execution_count": 0,
      "outputs": []
    },
    {
      "cell_type": "code",
      "metadata": {
        "id": "L2O9Gv9T-eFl",
        "colab_type": "code",
        "colab": {}
      },
      "source": [
        "session = requests.Session() \n",
        "session.headers.update({\n",
        "    \"Referer\": default_url.url,\n",
        "    \"User-Agent\": \"Mozilla/5.0 (X11; Linux x86_64) AppleWebKit/537.36 (KHTML, like Gecko) Chrome/79.0.3945.88 Safari/537.36\"\n",
        "})\n"
      ],
      "execution_count": 0,
      "outputs": []
    },
    {
      "cell_type": "code",
      "metadata": {
        "id": "WfuJ4EVUHh7h",
        "colab_type": "code",
        "colab": {}
      },
      "source": [
        "class Author:\n",
        "\n",
        "    def __init__(self, author_name, href, url_wrapper):\n",
        "        self.author_name = author_name\n",
        "        self.href = href\n",
        "        self.url_wrapper = combine_url_and_href(url_wrapper, href)\n",
        "\n",
        "        self.pieces_of_literature = None\n",
        "\n",
        "    def __str__(self):\n",
        "        return f\"\\\"{self.author_name}\\\": {self.url_wrapper.url}\"\n",
        "\n",
        "    def __repr__(self):\n",
        "        return self.__str__()\n",
        "\n",
        "    def get_parsed_author_page(self):\n",
        "        return get_parsed_page(self.url_wrapper)\n",
        "\n",
        "    def get_parsed_pieces_of_literature(self, use_cache=True):\n",
        "        if use_cache and self.pieces_of_literature is not None:\n",
        "            return self.pieces_of_literature\n",
        "\n",
        "        parsed_author_page = self.get_parsed_author_page()\n",
        "        work_node = parsed_author_page.xpath(\"//dl/dl/dt/li/a\")\n",
        "\n",
        "        pieces_of_literature = []\n",
        "        for item in work_node:\n",
        "            text = item.xpath(\"b/text()\")\n",
        "            work_name = text[0] if text else None\n",
        "            href = item.get(\"href\")\n",
        "\n",
        "            if work_name and href:\n",
        "                piece_of_literature = PieceOfLiterature(work_name, href, self.url_wrapper)\n",
        "                pieces_of_literature.append(piece_of_literature)\n",
        "\n",
        "        self.pieces_of_literature = pieces_of_literature\n",
        "        return pieces_of_literature\n",
        "\n",
        "    def parse_author_data_element(self):\n",
        "        pieces_of_literature = self.get_parsed_pieces_of_literature()\n",
        "        return AuthorData(self, pieces_of_literature)\n",
        "\n",
        "\n",
        "def try_parse_author_element(link_element, url_wrapper, remove_full_links=True):\n",
        "    text = link_element.xpath(\"text()\")\n",
        "    author_name = text[0] if text else None\n",
        "    href = link_element.get(\"href\")\n",
        "\n",
        "    if not text or not href:\n",
        "        return None\n",
        "    if remove_full_links and href.startswith(\"http\"):\n",
        "        return None\n",
        "\n",
        "    return Author(author_name, href, url_wrapper)\n"
      ],
      "execution_count": 0,
      "outputs": []
    },
    {
      "cell_type": "code",
      "metadata": {
        "id": "GojzmEfzHJWW",
        "colab_type": "code",
        "colab": {}
      },
      "source": [
        "def get_parsed_page(url_wrapper):\n",
        "    response = requests.get(url_wrapper.url)\n",
        "    parsed_main_page = html.document_fromstring(\n",
        "        response.content.decode(url_wrapper.encoding).encode(\"utf-8\").decode(\"utf-8\")\n",
        "    )\n",
        "    return parsed_main_page\n",
        "\n",
        "def get_converted_authors_collection(url_wrapper):\n",
        "    parsed_main_page = get_parsed_page(url_wrapper)\n",
        "    results = parsed_main_page.xpath(\"//p/a\")\n",
        "\n",
        "    authors = []\n",
        "    for link_element in results:\n",
        "        author = try_parse_author_element(link_element, url_wrapper)\n",
        "        if author:\n",
        "            authors.append(author)\n",
        "\n",
        "    return authors\n"
      ],
      "execution_count": 0,
      "outputs": []
    },
    {
      "cell_type": "code",
      "metadata": {
        "id": "d8NhI0sb_CvP",
        "colab_type": "code",
        "colab": {}
      },
      "source": [
        "get_converted_authors_collection(default_url)[:10]\n"
      ],
      "execution_count": 0,
      "outputs": []
    },
    {
      "cell_type": "markdown",
      "metadata": {
        "id": "pcYwDYAJ_Mve",
        "colab_type": "text"
      },
      "source": [
        "## Parsing every author page with texts info\n"
      ]
    },
    {
      "cell_type": "code",
      "metadata": {
        "id": "JKs2PSr1_-Ri",
        "colab_type": "code",
        "colab": {}
      },
      "source": [
        "class PieceOfLiterature:\n",
        "\n",
        "    def __init__(self, name, href, url_wrapper):\n",
        "        self.name = name\n",
        "        self.href = href\n",
        "        self.url_wrapper = combine_url_and_href(url_wrapper, href)\n",
        "\n",
        "        self.parsed_text = None\n",
        "\n",
        "    def __str__(self):\n",
        "        return f\"\\\"{self.name}\\\": {self.url_wrapper.url}\"\n",
        "\n",
        "    def __repr__(self):\n",
        "        return self.__str__()\n",
        "\n",
        "    def get_parsed_text_page(self):\n",
        "        return get_parsed_page(self.url_wrapper)\n",
        "\n",
        "    def get_novel(self, parsed_page):\n",
        "        parsed_novel = self._get_content_from_page(parsed_page, \"//dd\")\n",
        "        return parsed_novel\n",
        "\n",
        "    def get_poetry(self, parsed_page):\n",
        "        parsed_poetry = self._get_content_from_page(parsed_page, \"//pre\")\n",
        "        return parsed_poetry\n",
        "    \n",
        "    def get_poetry_bold(self, parsed_page):\n",
        "        head = self._get_content_from_page(parsed_page, \"//b/xxx7\")\n",
        "        tail = self._get_content_from_page(parsed_page, \"//b/xxx7/p\")\n",
        "        if not tail:\n",
        "            return head\n",
        "        return head + \" \\n \" + tail\n",
        "\n",
        "    def get_parsed_text(self, use_cache=True):\n",
        "        if use_cache and self.parsed_text is not None:\n",
        "            return self.parsed_text\n",
        "\n",
        "        parsed_page = self.get_parsed_text_page()\n",
        "\n",
        "        parsed_text = self.get_novel(parsed_page)\n",
        "        if not parsed_text:\n",
        "            parsed_text = self.get_poetry(parsed_page)\n",
        "        if not parsed_text:\n",
        "            parsed_text = self.get_poetry_bold(parsed_page)\n",
        "\n",
        "        self.parsed_text = parsed_text\n",
        "        return parsed_text\n",
        "\n",
        "    def _get_content_from_page(self, parsed_page, xpath):\n",
        "        result = parsed_page.xpath(xpath)\n",
        "\n",
        "        parsed_text = str()\n",
        "        for node in result:\n",
        "            text = node.xpath(\"text()\")\n",
        "            content = text[0] if text else None\n",
        "\n",
        "            if content:\n",
        "                parsed_text += content\n",
        "\n",
        "        return parsed_text.strip()\n",
        "\n",
        "\n",
        "class AuthorData:\n",
        "\n",
        "    def __init__(self, author, pieces_of_literature):\n",
        "        self.author = author\n",
        "        self.pieces_of_literature = pieces_of_literature\n",
        "\n",
        "    def __str__(self):\n",
        "        return f\"author: [{self.author}], works: {self.pieces_of_literature}\"\n",
        "\n",
        "    def __repr__(self):\n",
        "        return self.__str__()\n"
      ],
      "execution_count": 0,
      "outputs": []
    },
    {
      "cell_type": "code",
      "metadata": {
        "id": "Q35lCdtcNwoi",
        "colab_type": "code",
        "colab": {}
      },
      "source": [
        "def get_converted_authors_data_collection(url_wrapper, logger, split=None):\n",
        "    authors_collection = get_converted_authors_collection(url_wrapper)\n",
        "    if split:\n",
        "        lower_bound, upper_bound = split\n",
        "        authors_collection = authors_collection[lower_bound:upper_bound]\n",
        "\n",
        "    authors_data = []\n",
        "    for author in authors_collection:\n",
        "        logger.info(f\"Get works of author {author}\")\n",
        "        logger.info(author.url_wrapper)\n",
        "\n",
        "        author_data = author.parse_author_data_element()\n",
        "        authors_data.append(author_data)\n",
        "\n",
        "        logger.empty_line()\n",
        "\n",
        "    return authors_data\n"
      ],
      "execution_count": 0,
      "outputs": []
    },
    {
      "cell_type": "code",
      "metadata": {
        "id": "-_Zt5jG2Tybh",
        "colab_type": "code",
        "colab": {}
      },
      "source": [
        "authors_data_collection = get_converted_authors_data_collection(default_url, default_logger)\n",
        "authors_data_collection\n"
      ],
      "execution_count": 0,
      "outputs": []
    },
    {
      "cell_type": "code",
      "metadata": {
        "id": "qgq6Z4ULKOMX",
        "colab_type": "code",
        "colab": {}
      },
      "source": [
        "texts = []\n",
        "for authro_data in authors_data_collection:\n",
        "    for piece_of_work in authro_data.pieces_of_literature[:3]:\n",
        "        texts.append(piece_of_work.get_parsed_text())\n"
      ],
      "execution_count": 0,
      "outputs": []
    },
    {
      "cell_type": "markdown",
      "metadata": {
        "id": "2J_F4WQN4c0S",
        "colab_type": "text"
      },
      "source": [
        "## Looking at the results\n"
      ]
    },
    {
      "cell_type": "code",
      "metadata": {
        "id": "Q1Zm6y8HP4CB",
        "colab_type": "code",
        "colab": {}
      },
      "source": [
        "'''print(texts[0])\n",
        "print(\"--------------------\")\n",
        "print(\"You can compare this with pure call:\")\n",
        "print(\"--------------------\\n\")\n",
        "texts[0]\n",
        "'''"
      ],
      "execution_count": 0,
      "outputs": []
    },
    {
      "cell_type": "code",
      "metadata": {
        "id": "yY-j9LBwh-dy",
        "colab_type": "code",
        "colab": {}
      },
      "source": [
        "'''json_dict = jsons.dump(authors_data_collection[0])\n",
        "json_dict\n",
        "'''"
      ],
      "execution_count": 0,
      "outputs": []
    },
    {
      "cell_type": "code",
      "metadata": {
        "id": "uRJZxyeYcKm4",
        "colab_type": "code",
        "colab": {}
      },
      "source": [
        "my_json = []\n",
        "for author_data in authors_data_collection:\n",
        "    for piece_of_work in author_data.pieces_of_literature[:3]:\n",
        "        piece_of_work.get_parsed_text()  # Save parsed text into internal caches.\n",
        "        my_json.append(f\"{piece_of_work.url_wrapper.url}: {piece_of_work.parsed_text}\")\n"
      ],
      "execution_count": 0,
      "outputs": []
    },
    {
      "cell_type": "code",
      "metadata": {
        "id": "_F8V9RoNl6zT",
        "colab_type": "code",
        "colab": {}
      },
      "source": [
        "with open('texts_data.jsonlines', 'a', encoding='utf-8') as file:\n",
        "    for item in my_json:\n",
        "      json.dump(item, file, ensure_ascii=False)\n",
        "      file.write('\\n')\n"
      ],
      "execution_count": 0,
      "outputs": []
    },
    {
      "cell_type": "code",
      "metadata": {
        "id": "8pfWnInY5PIz",
        "colab_type": "code",
        "colab": {}
      },
      "source": [
        ""
      ],
      "execution_count": 0,
      "outputs": []
    }
  ]
}